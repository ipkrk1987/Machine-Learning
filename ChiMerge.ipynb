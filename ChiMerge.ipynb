{
 "cells": [
  {
   "cell_type": "code",
   "execution_count": 660,
   "metadata": {},
   "outputs": [],
   "source": [
    "import pandas as pd;\n",
    "import numpy as np;\n"
   ]
  },
  {
   "cell_type": "code",
   "execution_count": 661,
   "metadata": {},
   "outputs": [],
   "source": [
    "iris_Data = pd.read_csv('iris.csv');\n",
    "iwd = iris_Data.copy();"
   ]
  },
  {
   "cell_type": "code",
   "execution_count": 695,
   "metadata": {},
   "outputs": [
    {
     "data": {
      "text/html": [
       "<div>\n",
       "<style scoped>\n",
       "    .dataframe tbody tr th:only-of-type {\n",
       "        vertical-align: middle;\n",
       "    }\n",
       "\n",
       "    .dataframe tbody tr th {\n",
       "        vertical-align: top;\n",
       "    }\n",
       "\n",
       "    .dataframe thead th {\n",
       "        text-align: right;\n",
       "    }\n",
       "</style>\n",
       "<table border=\"1\" class=\"dataframe\">\n",
       "  <thead>\n",
       "    <tr style=\"text-align: right;\">\n",
       "      <th></th>\n",
       "      <th>Id</th>\n",
       "      <th>SepalLengthCm</th>\n",
       "      <th>SepalWidthCm</th>\n",
       "      <th>PetalLengthCm</th>\n",
       "      <th>PetalWidthCm</th>\n",
       "    </tr>\n",
       "  </thead>\n",
       "  <tbody>\n",
       "    <tr>\n",
       "      <th>count</th>\n",
       "      <td>150.000000</td>\n",
       "      <td>150.000000</td>\n",
       "      <td>150.000000</td>\n",
       "      <td>150.000000</td>\n",
       "      <td>150.000000</td>\n",
       "    </tr>\n",
       "    <tr>\n",
       "      <th>mean</th>\n",
       "      <td>75.500000</td>\n",
       "      <td>5.843333</td>\n",
       "      <td>3.054000</td>\n",
       "      <td>3.758667</td>\n",
       "      <td>1.198667</td>\n",
       "    </tr>\n",
       "    <tr>\n",
       "      <th>std</th>\n",
       "      <td>43.445368</td>\n",
       "      <td>0.828066</td>\n",
       "      <td>0.433594</td>\n",
       "      <td>1.764420</td>\n",
       "      <td>0.763161</td>\n",
       "    </tr>\n",
       "    <tr>\n",
       "      <th>min</th>\n",
       "      <td>1.000000</td>\n",
       "      <td>4.300000</td>\n",
       "      <td>2.000000</td>\n",
       "      <td>1.000000</td>\n",
       "      <td>0.100000</td>\n",
       "    </tr>\n",
       "    <tr>\n",
       "      <th>25%</th>\n",
       "      <td>38.250000</td>\n",
       "      <td>5.100000</td>\n",
       "      <td>2.800000</td>\n",
       "      <td>1.600000</td>\n",
       "      <td>0.300000</td>\n",
       "    </tr>\n",
       "    <tr>\n",
       "      <th>50%</th>\n",
       "      <td>75.500000</td>\n",
       "      <td>5.800000</td>\n",
       "      <td>3.000000</td>\n",
       "      <td>4.350000</td>\n",
       "      <td>1.300000</td>\n",
       "    </tr>\n",
       "    <tr>\n",
       "      <th>75%</th>\n",
       "      <td>112.750000</td>\n",
       "      <td>6.400000</td>\n",
       "      <td>3.300000</td>\n",
       "      <td>5.100000</td>\n",
       "      <td>1.800000</td>\n",
       "    </tr>\n",
       "    <tr>\n",
       "      <th>max</th>\n",
       "      <td>150.000000</td>\n",
       "      <td>7.900000</td>\n",
       "      <td>4.400000</td>\n",
       "      <td>6.900000</td>\n",
       "      <td>2.500000</td>\n",
       "    </tr>\n",
       "  </tbody>\n",
       "</table>\n",
       "</div>"
      ],
      "text/plain": [
       "               Id  SepalLengthCm  SepalWidthCm  PetalLengthCm  PetalWidthCm\n",
       "count  150.000000     150.000000    150.000000     150.000000    150.000000\n",
       "mean    75.500000       5.843333      3.054000       3.758667      1.198667\n",
       "std     43.445368       0.828066      0.433594       1.764420      0.763161\n",
       "min      1.000000       4.300000      2.000000       1.000000      0.100000\n",
       "25%     38.250000       5.100000      2.800000       1.600000      0.300000\n",
       "50%     75.500000       5.800000      3.000000       4.350000      1.300000\n",
       "75%    112.750000       6.400000      3.300000       5.100000      1.800000\n",
       "max    150.000000       7.900000      4.400000       6.900000      2.500000"
      ]
     },
     "execution_count": 695,
     "metadata": {},
     "output_type": "execute_result"
    }
   ],
   "source": [
    "iwd.describe()"
   ]
  },
  {
   "cell_type": "code",
   "execution_count": 663,
   "metadata": {},
   "outputs": [],
   "source": [
    "col = iwd.columns"
   ]
  },
  {
   "cell_type": "code",
   "execution_count": 702,
   "metadata": {},
   "outputs": [],
   "source": [
    "#Create a class to hold upperbound, lowerbound and chi values.\n",
    "class chi:  \n",
    "    def __init__(self, lower, upper,value):  \n",
    "        self.lower = lower  \n",
    "        self.upper = upper\n",
    "        self.value = value\n",
    "\n",
    "def ComputeChi(d):\n",
    "    if d.shape[0] ==1 :\n",
    "        return 0;\n",
    "    temp =d.copy();  \n",
    "    r = temp.sum(axis=0);\n",
    "    c = temp.sum(axis=1);\n",
    "    c = c/c.sum(axis=0);\n",
    "    e = pd.DataFrame(np.zeros(temp.shape)); ##(c*temp/(c.sum()));\n",
    "    for i in range(len(temp.columns)):\n",
    "        ## calculate expected value.\n",
    "        e.iloc[0,i] = c.iloc[0]*(temp.iloc[:,i].sum())/c.sum();\n",
    "        e.iloc[1,i] = c.iloc[1]*(temp.iloc[:,i].sum())/c.sum();\n",
    "        ## Calculate chi in the same array.\n",
    "        e.iloc[0,i] = (temp.iloc[0,i]-e.iloc[0,i])**2/e.iloc[0,i]\n",
    "        e.iloc[1,i] = (temp.iloc[1,i]-e.iloc[1,i])**2/e.iloc[1,i]\n",
    "   \n",
    "    return e.sum().sum();\n",
    "\n",
    "\n",
    "\n",
    "\n",
    "def Chimerge(data):\n",
    "    data =data.sort_values(by=[data.columns[0]]);\n",
    "    d2 = pd.crosstab(data.iloc[:,0],data.iloc[:,1]);   \n",
    "    intervals =data.iloc[:,0].unique(); \n",
    "    chilist = [];\n",
    "    \n",
    "    for i in range(len(d2.index)):\n",
    "        y = chi(d2.index[i], d2.index[i],100000);\n",
    "        chilist.append(y);\n",
    "    \n",
    "    while (len(chilist) > 6):    \n",
    "        newlist =[];\n",
    "        for i in range(len(chilist)-1): \n",
    "            newlist.append(chi(chilist[i].lower,chilist[i+1].upper, ComputeChi(d2.ix[chilist[i].lower:chilist[i].upper,:]))); \n",
    "         \n",
    "        v = min(newlist, key=lambda x: x.value);\n",
    "        for c in chilist:\n",
    "            if c.lower == v.lower or c.upper == v.upper:\n",
    "                del(c);\n",
    "                \n",
    "                \n",
    "        chilist = [item for item in chilist if ( item.lower != v.lower  and item.upper != v.upper) ]\n",
    "        \n",
    "        chilist.append(v);\n",
    "        chilist.sort(key=lambda x: x.lower);\n",
    "       \n",
    "    \n",
    "    for c in chilist:\n",
    "        print(c.lower, c.upper);"
   ]
  },
  {
   "cell_type": "code",
   "execution_count": 703,
   "metadata": {},
   "outputs": [
    {
     "name": "stdout",
     "output_type": "stream",
     "text": [
      "SepalLengthCm\n",
      "=======================\n"
     ]
    },
    {
     "name": "stderr",
     "output_type": "stream",
     "text": [
      "C:\\Program Files (x86)\\Microsoft Visual Studio\\Shared\\Anaconda3_64\\lib\\site-packages\\ipykernel_launcher.py:41: DeprecationWarning: \n",
      ".ix is deprecated. Please use\n",
      ".loc for label based indexing or\n",
      ".iloc for positional indexing\n",
      "\n",
      "See the documentation here:\n",
      "http://pandas.pydata.org/pandas-docs/stable/indexing.html#ix-indexer-is-deprecated\n",
      "C:\\Program Files (x86)\\Microsoft Visual Studio\\Shared\\Anaconda3_64\\lib\\site-packages\\ipykernel_launcher.py:20: RuntimeWarning: invalid value encountered in double_scalars\n",
      "C:\\Program Files (x86)\\Microsoft Visual Studio\\Shared\\Anaconda3_64\\lib\\site-packages\\ipykernel_launcher.py:21: RuntimeWarning: invalid value encountered in double_scalars\n"
     ]
    },
    {
     "name": "stdout",
     "output_type": "stream",
     "text": [
      "4.3 4.9 0.0\n",
      "5.0 5.5 0.27999999999999997\n",
      "5.6 5.7 0\n",
      "5.8 5.9 0\n",
      "6.0 6.6 0.08888888888888888\n",
      "6.7 7.9 0.02222222222222222\n",
      "SepalWidthCm\n",
      "=======================\n",
      "2.0 2.4 0.4444444444444444\n",
      "2.5 3.0 0.2\n",
      "3.1 3.4 0.07122507122507135\n",
      "3.5 3.6 0\n",
      "3.7 3.8 0\n",
      "3.9 4.4 0.0\n",
      "PetalLengthCm\n",
      "=======================\n",
      "1.0 3.0 9.860761315262645e-32\n",
      "3.3 4.5 1.972152263052529e-31\n",
      "4.6 4.8 0.0\n",
      "4.9 5.0 0\n",
      "5.1 5.2 0\n",
      "5.3 6.9 1.972152263052529e-31\n",
      "PetalWidthCm\n",
      "=======================\n",
      "0.1 0.3 0.0\n",
      "0.4 1.0 0.0\n",
      "1.1 1.4 0.0\n",
      "1.5 1.6 0\n",
      "1.7 1.8 0\n",
      "1.9 2.5 2.892489985810376e-31\n"
     ]
    }
   ],
   "source": [
    "for i in range(1,len(col)-1):\n",
    "    print(col[i]);\n",
    "    print(\"=======================\")\n",
    "    Chimerge(iwd[[col[i],col[-1]]])"
   ]
  },
  {
   "cell_type": "code",
   "execution_count": null,
   "metadata": {},
   "outputs": [],
   "source": []
  },
  {
   "cell_type": "code",
   "execution_count": null,
   "metadata": {},
   "outputs": [],
   "source": []
  }
 ],
 "metadata": {
  "kernelspec": {
   "display_name": "Python 3",
   "language": "python",
   "name": "python3"
  },
  "language_info": {
   "codemirror_mode": {
    "name": "ipython",
    "version": 3
   },
   "file_extension": ".py",
   "mimetype": "text/x-python",
   "name": "python",
   "nbconvert_exporter": "python",
   "pygments_lexer": "ipython3",
   "version": "3.6.5"
  }
 },
 "nbformat": 4,
 "nbformat_minor": 2
}
